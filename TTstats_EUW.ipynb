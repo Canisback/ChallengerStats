{
 "cells": [
  {
   "cell_type": "code",
   "execution_count": 1,
   "metadata": {},
   "outputs": [],
   "source": [
    "#Get the mongo table where are stored the games\n",
    "\n",
    "import pymongo\n",
    "client = pymongo.MongoClient()\n",
    "db = client.game\n",
    "\n",
    "#Create Mongo table for new games\n",
    "mongoTable = db[\"gameTT2\"]"
   ]
  },
  {
   "cell_type": "code",
   "execution_count": 2,
   "metadata": {},
   "outputs": [],
   "source": [
    "#Get the winning team\n",
    "def getWinner(game):\n",
    "    for team in game[\"teams\"]:\n",
    "        if team[\"win\"]==\"Win\":\n",
    "            return team[\"teamId\"]"
   ]
  },
  {
   "cell_type": "code",
   "execution_count": 3,
   "metadata": {},
   "outputs": [],
   "source": [
    "#Need to classify teams as following jungler meta or hypercarry meta\n",
    "#Intuition : hypercarry meta team needs a support, which usually has a specific support item\n",
    "#            A player having one of those specific items are support\n",
    "#            A team having one (or more) support player follows hypercarry meta, a team which doesn't follows the jungler meta\n",
    "\n",
    "#List of support items (as of LoL season 8, up to patch 8.18)\n",
    "supportItems = [3303, 3309, 3098, 3096, 3097, 3312, 3092, 3311, 3307, 3301, 3306, 3401, 3310, 3304, 3302, 4301, 4302, 3308, 3069, 3305]\n",
    "\n",
    "#Detect if a player has a support item, and tag it has support\n",
    "def isSupport(participant):\n",
    "    for i in range(0,7):\n",
    "        if participant['stats']['item'+str(i)] in supportItems:\n",
    "            return True\n",
    "    return False\n",
    "\n",
    "#Check if the specified team has a support\n",
    "def hasSupport(game, teamId):\n",
    "    for p in game['participants']:\n",
    "        if isSupport(p) and p[\"teamId\"]==teamId:\n",
    "            return True\n",
    "    return False"
   ]
  },
  {
   "cell_type": "code",
   "execution_count": 4,
   "metadata": {},
   "outputs": [],
   "source": [
    "#Analysis of the importance of leading the game\n",
    "#A leading team is a team having at least 6 kills more than its opponent (value arbitrarily set)\n",
    "\n",
    "#Check if one team has a lead on the other, and which one then\n",
    "def getLeadingTeam(kills100, kills200):\n",
    "    if kills100 >= kills200 + 6:\n",
    "        return 100\n",
    "    elif kills200 >= kills100 + 6:\n",
    "        return 200\n",
    "    return None\n",
    "\n",
    "\n",
    "def getFirstLeadingTeam(game):\n",
    "    kills100 = 0\n",
    "    kills200 = 0\n",
    "    for frame in game['timeline']['frames']:\n",
    "        for event in frame['events']:\n",
    "            if event['type'] == \"CHAMPION_KILL\":\n",
    "                if event[\"killerId\"] in [1,2,3]:\n",
    "                    kills100+=1\n",
    "                else:\n",
    "                    kills200+=1\n",
    "                team = getLeadingTeam(kills100, kills200)\n",
    "                if not team == None:\n",
    "                    return team"
   ]
  },
  {
   "cell_type": "code",
   "execution_count": 5,
   "metadata": {},
   "outputs": [],
   "source": [
    "#Some personal stats\n",
    "def hasAnivia(game, teamId):\n",
    "    for p in game['participants']:\n",
    "        if p[\"championId\"]==34 and p[\"teamId\"]==teamId:\n",
    "            return True\n",
    "    return False\n",
    "\n",
    "def hasVelkoz(game, teamId):\n",
    "    for p in game['participants']:\n",
    "        if p[\"championId\"]==161 and p[\"teamId\"]==teamId:\n",
    "            return True\n",
    "    return False"
   ]
  },
  {
   "cell_type": "code",
   "execution_count": 6,
   "metadata": {},
   "outputs": [],
   "source": [
    "#Analysis for games since patch 8.15\n",
    "startTimestamp = 1533097800 * 1000"
   ]
  },
  {
   "cell_type": "code",
   "execution_count": 7,
   "metadata": {},
   "outputs": [],
   "source": [
    "gamesData = []\n",
    "for game in mongoTable.find( { \"gameCreation\": { \"$gt\": startTimestamp } }):\n",
    "    if game[\"gameDuration\"] < 300:\n",
    "        continue\n",
    "    \n",
    "    winningTeam = getWinner(game)\n",
    "    loosingTeam = 200 if winningTeam==100 else 100\n",
    "    \n",
    "    winnerMeta = \"hypercarry\" if hasSupport(game,winningTeam) else \"jungler\"\n",
    "    looserMeta = \"hypercarry\" if hasSupport(game,loosingTeam) else \"jungler\"\n",
    "    \n",
    "    leadingTeam = getFirstLeadingTeam(game)\n",
    "    \n",
    "    winningTeamHasAnivia = hasAnivia(game,winningTeam)\n",
    "    loosingTeamHasAnivia = hasAnivia(game,loosingTeam)\n",
    "    \n",
    "    winningTeamHasVelkoz = hasVelkoz(game,winningTeam)\n",
    "    loosingTeamHasVelkoz = hasVelkoz(game,loosingTeam)\n",
    "    \n",
    "    gamesData.append({\n",
    "        \"winningTeam\":winningTeam,\n",
    "        \"loosingTeam\":loosingTeam,\n",
    "        \"winnerMeta\":winnerMeta,\n",
    "        \"looserMeta\":looserMeta,\n",
    "        \"leadingTeam\":leadingTeam,\n",
    "        \"winningTeamHasAnivia\":winningTeamHasAnivia,\n",
    "        \"loosingTeamHasAnivia\":loosingTeamHasAnivia,\n",
    "        \"winningTeamHasVelkoz\":winningTeamHasVelkoz,\n",
    "        \"loosingTeamHasVelkoz\":loosingTeamHasVelkoz\n",
    "    })"
   ]
  },
  {
   "cell_type": "code",
   "execution_count": 8,
   "metadata": {},
   "outputs": [],
   "source": [
    "import pandas as pd\n",
    "df = pd.DataFrame(gamesData)"
   ]
  },
  {
   "cell_type": "code",
   "execution_count": 9,
   "metadata": {},
   "outputs": [],
   "source": [
    "#Winrate hypercarry VS jungler\n",
    "#Games hypercarry winning on jungler\n",
    "dfHcWinning = df[((df[\"winnerMeta\"]==\"hypercarry\") & (df[\"looserMeta\"]==\"jungler\"))]\n",
    "#Games jungler winning on hypercarry\n",
    "dfJunWinning = df[((df[\"winnerMeta\"]==\"jungler\") & (df[\"looserMeta\"]==\"hypercarry\"))]"
   ]
  },
  {
   "cell_type": "code",
   "execution_count": 10,
   "metadata": {},
   "outputs": [],
   "source": [
    "#Hypercarry winrate against Jungler\n",
    "hcWinrate = dfHcWinning.shape[0]/(dfHcWinning.shape[0]+dfJunWinning.shape[0])"
   ]
  },
  {
   "cell_type": "code",
   "execution_count": 11,
   "metadata": {},
   "outputs": [],
   "source": [
    "#Versus count\n",
    "gameCount = {\n",
    "    \"jglVSjgl\":df[((df[\"winnerMeta\"]==\"jungler\") & (df[\"looserMeta\"]==\"jungler\"))].shape[0],\n",
    "    \"hcVShc\":df[((df[\"winnerMeta\"]==\"hypercarry\") & (df[\"looserMeta\"]==\"hypercarry\"))].shape[0],\n",
    "    \"hcVSjgl\":pd.concat([dfHcWinning,dfJunWinning]).shape[0],\n",
    "    \"total\":df.shape[0]\n",
    "}"
   ]
  },
  {
   "cell_type": "code",
   "execution_count": 12,
   "metadata": {},
   "outputs": [],
   "source": [
    "#number of games with a leading team\n",
    "nbGameWithLead = df[((df[\"leadingTeam\"]==100) | (df[\"leadingTeam\"]==200))].shape[0]"
   ]
  },
  {
   "cell_type": "code",
   "execution_count": 13,
   "metadata": {},
   "outputs": [],
   "source": [
    "#winrate of leading team actually winning the game\n",
    "nbLeadingTeamWinning = df[df[\"leadingTeam\"]==df[\"winningTeam\"]].shape[0]\n",
    "winrateLeadingTeam = nbLeadingTeamWinning/df[((df[\"leadingTeam\"]==100) | (df[\"leadingTeam\"]==200))].shape[0]\n",
    "#percentage of game with a leading team\n",
    "percentageLeadingTeam = nbGameWithLead/df.shape[0]"
   ]
  },
  {
   "cell_type": "code",
   "execution_count": 14,
   "metadata": {},
   "outputs": [],
   "source": [
    "#winrate of leading team actually winning the game in jungler VS jungler\n",
    "nbLeadingTeamWinningJungle = df[((df[\"leadingTeam\"]==df[\"winningTeam\"]) & (df[\"winnerMeta\"]==\"jungler\") & (df[\"looserMeta\"]==\"jungler\"))].shape[0]\n",
    "nbGameWithLeadJungle = df[(((df[\"leadingTeam\"]==100) | (df[\"leadingTeam\"]==200)) & (df[\"winnerMeta\"]==\"jungler\") & (df[\"looserMeta\"]==\"jungler\"))].shape[0]\n",
    "\n",
    "winrateLeadingTeamJungle = nbLeadingTeamWinningJungle/nbGameWithLeadJungle\n",
    "#percentage of game with a leading team in jungler VS jungler\n",
    "percentageLeadingTeamJungle = nbGameWithLeadJungle/gameCount[\"jglVSjgl\"]"
   ]
  },
  {
   "cell_type": "code",
   "execution_count": 15,
   "metadata": {},
   "outputs": [],
   "source": [
    "#winrate of leading team actually winning the game in hypercarry VS hypercarry\n",
    "nbLeadingTeamWinningHypercarry = df[((df[\"leadingTeam\"]==df[\"winningTeam\"]) & (df[\"winnerMeta\"]==\"hypercarry\") & (df[\"looserMeta\"]==\"hypercarry\"))].shape[0]\n",
    "nbGameWithLeadHypercarry = df[(((df[\"leadingTeam\"]==100) | (df[\"leadingTeam\"]==200)) & (df[\"winnerMeta\"]==\"hypercarry\") & (df[\"looserMeta\"]==\"hypercarry\"))].shape[0]\n",
    "\n",
    "winrateLeadingTeamHypercarry = nbLeadingTeamWinningHypercarry/nbGameWithLeadHypercarry\n",
    "#percentage of game with a leading team in hypercarry VS hypercarry\n",
    "percentageLeadingTeamHypercarry = nbGameWithLeadHypercarry/gameCount[\"hcVShc\"]"
   ]
  },
  {
   "cell_type": "code",
   "execution_count": 16,
   "metadata": {},
   "outputs": [],
   "source": [
    "#winrate of leading team actually winning the game in hypercarry VS jungler\n",
    "dfBoth = pd.concat([dfHcWinning,dfJunWinning])\n",
    "nbLeadingTeamWinningBoth = dfBoth[dfBoth[\"leadingTeam\"]==dfBoth[\"winningTeam\"]].shape[0]\n",
    "nbGameWithLeadBoth = dfBoth[((dfBoth[\"leadingTeam\"]==100) | (dfBoth[\"leadingTeam\"]==200))].shape[0]\n",
    "\n",
    "winrateLeadingTeamBoth = nbLeadingTeamWinningBoth/nbGameWithLeadBoth\n",
    "#percentage of game with a leading team in hypercarry VS jungler\n",
    "percentageLeadingTeamBoth = nbGameWithLeadBoth/gameCount[\"hcVSjgl\"]"
   ]
  },
  {
   "cell_type": "code",
   "execution_count": 17,
   "metadata": {},
   "outputs": [],
   "source": [
    "#Red team winrate\n",
    "redTeamWinrate = df[df[\"winningTeam\"]==200].shape[0] / df.shape[0]\n",
    "redTeamWinrateJungle = df[((df[\"winningTeam\"]==200) & (df[\"winnerMeta\"]==\"jungler\") & (df[\"looserMeta\"]==\"jungler\"))].shape[0] /gameCount[\"jglVSjgl\"]\n",
    "redTeamWinrateHypercarry = df[((df[\"winningTeam\"]==200) & (df[\"winnerMeta\"]==\"hypercarry\") & (df[\"looserMeta\"]==\"hypercarry\"))].shape[0] /gameCount[\"hcVShc\"]\n",
    "redTeamWinrateBoth = dfBoth[dfBoth[\"winningTeam\"]==200].shape[0] /gameCount[\"hcVSjgl\"]"
   ]
  },
  {
   "cell_type": "code",
   "execution_count": 18,
   "metadata": {},
   "outputs": [],
   "source": [
    "stats = []\n",
    "\n",
    "stats.append({\n",
    "    \"Meta\":\"All\",\n",
    "    \"nbGames\":gameCount[\"total\"],\n",
    "    \"percentageTotalGame\":gameCount[\"total\"]/gameCount[\"total\"],\n",
    "    \"nbGameWithLead\":nbGameWithLead,\n",
    "    \"percentageLeadingTeam\":percentageLeadingTeam,\n",
    "    \"winrateLeadingTeam\":winrateLeadingTeam,\n",
    "    \"redTeamWinrate\":redTeamWinrate\n",
    "})\n",
    "\n",
    "stats.append({\n",
    "    \"Meta\":\"Jungle Only\",\n",
    "    \"nbGames\":gameCount[\"jglVSjgl\"],\n",
    "    \"percentageTotalGame\":gameCount[\"jglVSjgl\"]/gameCount[\"total\"],\n",
    "    \"nbGameWithLead\":nbGameWithLeadJungle,\n",
    "    \"percentageLeadingTeam\":percentageLeadingTeamJungle,\n",
    "    \"winrateLeadingTeam\":winrateLeadingTeamJungle,\n",
    "    \"redTeamWinrate\":redTeamWinrateJungle\n",
    "})\n",
    "\n",
    "stats.append({\n",
    "    \"Meta\":\"Hypercarry only\",\n",
    "    \"nbGames\":gameCount[\"hcVShc\"],\n",
    "    \"percentageTotalGame\":gameCount[\"hcVShc\"]/gameCount[\"total\"],\n",
    "    \"nbGameWithLead\":nbGameWithLeadHypercarry,\n",
    "    \"percentageLeadingTeam\":percentageLeadingTeamHypercarry,\n",
    "    \"winrateLeadingTeam\":winrateLeadingTeamHypercarry,\n",
    "    \"redTeamWinrate\":redTeamWinrateHypercarry\n",
    "})\n",
    "\n",
    "stats.append({\n",
    "    \"Meta\":\"Hypercarry VS Jungle\",\n",
    "    \"nbGames\":gameCount[\"hcVSjgl\"],\n",
    "    \"percentageTotalGame\":gameCount[\"hcVSjgl\"]/gameCount[\"total\"],\n",
    "    \"nbGameWithLead\":nbGameWithLeadBoth,\n",
    "    \"percentageLeadingTeam\":percentageLeadingTeamBoth,\n",
    "    \"winrateLeadingTeam\":winrateLeadingTeamBoth,\n",
    "    \"redTeamWinrate\":redTeamWinrateBoth\n",
    "})"
   ]
  },
  {
   "cell_type": "code",
   "execution_count": 19,
   "metadata": {},
   "outputs": [],
   "source": [
    "dfStats = pd.DataFrame(stats)\n",
    "dfStats[\"percentageTotalGame\"] = (dfStats[\"percentageTotalGame\"]*100).map('{:,.2f}'.format)\n",
    "dfStats[\"percentageLeadingTeam\"] = (dfStats[\"percentageLeadingTeam\"]*100).map('{:,.2f}'.format)\n",
    "dfStats[\"winrateLeadingTeam\"] = (dfStats[\"winrateLeadingTeam\"]*100).map('{:,.2f}'.format)\n",
    "dfStats[\"redTeamWinrate\"] = (dfStats[\"redTeamWinrate\"]*100).map('{:,.2f}'.format)"
   ]
  },
  {
   "cell_type": "code",
   "execution_count": 20,
   "metadata": {},
   "outputs": [],
   "source": [
    "#Anivia\n",
    "aniviaPickrate = df[((df[\"winningTeamHasAnivia\"]) | (df[\"loosingTeamHasAnivia\"]))].shape[0] / gameCount[\"total\"]\n",
    "aniviaWinrate = df[df[\"winningTeamHasAnivia\"]].shape[0]/df[((df[\"winningTeamHasAnivia\"]) | (df[\"loosingTeamHasAnivia\"]))].shape[0]"
   ]
  },
  {
   "cell_type": "code",
   "execution_count": 21,
   "metadata": {},
   "outputs": [],
   "source": [
    "#Velkoz\n",
    "velkozPickrate = df[((df[\"winningTeamHasVelkoz\"]) | (df[\"loosingTeamHasVelkoz\"]))].shape[0] / gameCount[\"total\"]\n",
    "velkozWinrate = df[df[\"winningTeamHasVelkoz\"]].shape[0]/df[((df[\"winningTeamHasVelkoz\"]) | (df[\"loosingTeamHasVelkoz\"]))].shape[0]"
   ]
  },
  {
   "cell_type": "code",
   "execution_count": 22,
   "metadata": {},
   "outputs": [],
   "source": [
    "championStats = []\n",
    "championStats.append({\n",
    "    \"champion\":\"Anivia\",\n",
    "    \"pickrate\":aniviaPickrate,\n",
    "    \"winrate\":aniviaWinrate\n",
    "})\n",
    "championStats.append({\n",
    "    \"champion\":\"Velkoz\",\n",
    "    \"pickrate\":velkozPickrate,\n",
    "    \"winrate\":velkozWinrate\n",
    "})\n",
    "dfChampionStats = pd.DataFrame(championStats)\n",
    "dfChampionStats[\"pickrate\"] = (dfChampionStats[\"pickrate\"]*100).map('{:,.2f}'.format)\n",
    "dfChampionStats[\"winrate\"] = (dfChampionStats[\"winrate\"]*100).map('{:,.2f}'.format)"
   ]
  },
  {
   "cell_type": "code",
   "execution_count": null,
   "metadata": {},
   "outputs": [],
   "source": []
  },
  {
   "cell_type": "markdown",
   "metadata": {},
   "source": [
    "# Results"
   ]
  },
  {
   "cell_type": "markdown",
   "metadata": {},
   "source": [
    "Winrate Hypercarry VS Jungle"
   ]
  },
  {
   "cell_type": "code",
   "execution_count": 23,
   "metadata": {},
   "outputs": [
    {
     "data": {
      "text/plain": [
       "'64.58%'"
      ]
     },
     "execution_count": 23,
     "metadata": {},
     "output_type": "execute_result"
    }
   ],
   "source": [
    "\"{:.2f}%\".format(hcWinrate*100)"
   ]
  },
  {
   "cell_type": "markdown",
   "metadata": {},
   "source": [
    "Stats on game sorted by meta\n",
    " - nbGames : Total number of games\n",
    " - percentageTotalGame : Percentage of game following the specified meta\n",
    " - nbGameWithLead : Number of games where a team has a lead of at least 6 kills\n",
    " - percentageLeadingTeam : Percentage of games with a leading team on the total\n",
    " - winrateLeadingTeam : Winrate of the leading team\n",
    " - redTeamWinrate : Winrate of the Red team"
   ]
  },
  {
   "cell_type": "code",
   "execution_count": 24,
   "metadata": {},
   "outputs": [
    {
     "data": {
      "text/html": [
       "<div>\n",
       "<style>\n",
       "    .dataframe thead tr:only-child th {\n",
       "        text-align: right;\n",
       "    }\n",
       "\n",
       "    .dataframe thead th {\n",
       "        text-align: left;\n",
       "    }\n",
       "\n",
       "    .dataframe tbody tr th {\n",
       "        vertical-align: top;\n",
       "    }\n",
       "</style>\n",
       "<table border=\"1\" class=\"dataframe\">\n",
       "  <thead>\n",
       "    <tr style=\"text-align: right;\">\n",
       "      <th></th>\n",
       "      <th>Meta</th>\n",
       "      <th>nbGames</th>\n",
       "      <th>percentageTotalGame</th>\n",
       "      <th>nbGameWithLead</th>\n",
       "      <th>percentageLeadingTeam</th>\n",
       "      <th>winrateLeadingTeam</th>\n",
       "      <th>redTeamWinrate</th>\n",
       "    </tr>\n",
       "  </thead>\n",
       "  <tbody>\n",
       "    <tr>\n",
       "      <th>0</th>\n",
       "      <td>All</td>\n",
       "      <td>2293</td>\n",
       "      <td>100.00</td>\n",
       "      <td>1854</td>\n",
       "      <td>80.85</td>\n",
       "      <td>93.53</td>\n",
       "      <td>59.01</td>\n",
       "    </tr>\n",
       "    <tr>\n",
       "      <th>1</th>\n",
       "      <td>Jungle Only</td>\n",
       "      <td>321</td>\n",
       "      <td>14.00</td>\n",
       "      <td>272</td>\n",
       "      <td>84.74</td>\n",
       "      <td>92.65</td>\n",
       "      <td>56.07</td>\n",
       "    </tr>\n",
       "    <tr>\n",
       "      <th>2</th>\n",
       "      <td>Hypercarry only</td>\n",
       "      <td>1156</td>\n",
       "      <td>50.41</td>\n",
       "      <td>928</td>\n",
       "      <td>80.28</td>\n",
       "      <td>95.15</td>\n",
       "      <td>59.43</td>\n",
       "    </tr>\n",
       "    <tr>\n",
       "      <th>3</th>\n",
       "      <td>Hypercarry VS Jungle</td>\n",
       "      <td>816</td>\n",
       "      <td>35.59</td>\n",
       "      <td>654</td>\n",
       "      <td>80.15</td>\n",
       "      <td>91.59</td>\n",
       "      <td>59.56</td>\n",
       "    </tr>\n",
       "  </tbody>\n",
       "</table>\n",
       "</div>"
      ],
      "text/plain": [
       "                   Meta  nbGames percentageTotalGame  nbGameWithLead  \\\n",
       "0                   All     2293              100.00            1854   \n",
       "1           Jungle Only      321               14.00             272   \n",
       "2       Hypercarry only     1156               50.41             928   \n",
       "3  Hypercarry VS Jungle      816               35.59             654   \n",
       "\n",
       "  percentageLeadingTeam winrateLeadingTeam redTeamWinrate  \n",
       "0                 80.85              93.53          59.01  \n",
       "1                 84.74              92.65          56.07  \n",
       "2                 80.28              95.15          59.43  \n",
       "3                 80.15              91.59          59.56  "
      ]
     },
     "execution_count": 24,
     "metadata": {},
     "output_type": "execute_result"
    }
   ],
   "source": [
    "dfStats[[\"Meta\",\"nbGames\",\"percentageTotalGame\",\"nbGameWithLead\",\"percentageLeadingTeam\",\"winrateLeadingTeam\",\"redTeamWinrate\"]]"
   ]
  },
  {
   "cell_type": "markdown",
   "metadata": {},
   "source": [
    "Pickrate and Winrate for Anivia and Velkoz"
   ]
  },
  {
   "cell_type": "code",
   "execution_count": 25,
   "metadata": {},
   "outputs": [
    {
     "data": {
      "text/html": [
       "<div>\n",
       "<style>\n",
       "    .dataframe thead tr:only-child th {\n",
       "        text-align: right;\n",
       "    }\n",
       "\n",
       "    .dataframe thead th {\n",
       "        text-align: left;\n",
       "    }\n",
       "\n",
       "    .dataframe tbody tr th {\n",
       "        vertical-align: top;\n",
       "    }\n",
       "</style>\n",
       "<table border=\"1\" class=\"dataframe\">\n",
       "  <thead>\n",
       "    <tr style=\"text-align: right;\">\n",
       "      <th></th>\n",
       "      <th>champion</th>\n",
       "      <th>pickrate</th>\n",
       "      <th>winrate</th>\n",
       "    </tr>\n",
       "  </thead>\n",
       "  <tbody>\n",
       "    <tr>\n",
       "      <th>0</th>\n",
       "      <td>Anivia</td>\n",
       "      <td>11.43</td>\n",
       "      <td>45.04</td>\n",
       "    </tr>\n",
       "    <tr>\n",
       "      <th>1</th>\n",
       "      <td>Velkoz</td>\n",
       "      <td>22.98</td>\n",
       "      <td>59.01</td>\n",
       "    </tr>\n",
       "  </tbody>\n",
       "</table>\n",
       "</div>"
      ],
      "text/plain": [
       "  champion pickrate winrate\n",
       "0   Anivia    11.43   45.04\n",
       "1   Velkoz    22.98   59.01"
      ]
     },
     "execution_count": 25,
     "metadata": {},
     "output_type": "execute_result"
    }
   ],
   "source": [
    "dfChampionStats"
   ]
  },
  {
   "cell_type": "code",
   "execution_count": 27,
   "metadata": {},
   "outputs": [],
   "source": [
    "dfStats.to_csv(\"statsEUWafter.csv\", index=False)"
   ]
  },
  {
   "cell_type": "code",
   "execution_count": null,
   "metadata": {},
   "outputs": [],
   "source": []
  }
 ],
 "metadata": {
  "kernelspec": {
   "display_name": "Python 3",
   "language": "python",
   "name": "python3"
  },
  "language_info": {
   "codemirror_mode": {
    "name": "ipython",
    "version": 3
   },
   "file_extension": ".py",
   "mimetype": "text/x-python",
   "name": "python",
   "nbconvert_exporter": "python",
   "pygments_lexer": "ipython3",
   "version": "3.5.4"
  }
 },
 "nbformat": 4,
 "nbformat_minor": 2
}
