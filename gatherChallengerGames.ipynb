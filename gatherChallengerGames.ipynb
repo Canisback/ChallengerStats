{
 "cells": [
  {
   "cell_type": "code",
   "execution_count": 1,
   "metadata": {},
   "outputs": [],
   "source": [
    "from pantheon import pantheon\n",
    "from pantheon.utils import exceptions as exc\n",
    "import asyncio\n",
    "\n",
    "#Indicate which server you want you matches form\n",
    "server = \"na1\"\n",
    "#Use your own RIot API key, find more about here : https://developer.riotgames.com/\n",
    "api_key = \"\"\n",
    "\n",
    "panth = pantheon.Pantheon(server, api_key, True)"
   ]
  },
  {
   "cell_type": "code",
   "execution_count": 2,
   "metadata": {},
   "outputs": [],
   "source": [
    "async def getAllMatchId(accountId):\n",
    "    matches = []\n",
    "    beginIndex = 0\n",
    "    while True:\n",
    "        try:\n",
    "            matchlist = await panth.getMatchlist(accountId, {\"beginIndex\":beginIndex,\"queue\":\"470\",\"season\":\"11\"}) #Params for matchlist here filter for games played in 3v3 Flex and for season 8 only\n",
    "            matches += [g['gameId'] for g in matchlist['matches']]\n",
    "            if len(matchlist['matches']) == 100:\n",
    "                beginIndex += 100\n",
    "            else:\n",
    "                break\n",
    "        except exc.NotFound as e:\n",
    "            break\n",
    "        except (exc.RateLimit, exc.ServerError, exc.Timeout) as e:\n",
    "            print(e)\n",
    "        except Exception as e:\n",
    "            print(e)\n",
    "    return matches\n",
    "\n",
    "async def getChallengersAccountIds(queue):\n",
    "    try:\n",
    "        challResponse = await panth.getChallengerLeague(queue)\n",
    "        summIds = [e[\"playerOrTeamId\"] for e in challResponse[\"entries\"]]\n",
    "        tasks = [panth.getSummoner(summId) for summId in summIds]\n",
    "        summResponses = await asyncio.gather(*tasks)\n",
    "        accountIds = [i['accountId'] for i in summResponses]\n",
    "        return accountIds\n",
    "    except Exception as e:\n",
    "        print(e)\n",
    "\n",
    "async def getMatchIdsFromMultipleAccounts(accountIds):\n",
    "    return await asyncio.gather(*[getAllMatchId(accountId) for accountId in accountIds])"
   ]
  },
  {
   "cell_type": "code",
   "execution_count": 3,
   "metadata": {},
   "outputs": [],
   "source": [
    "loop = asyncio.get_event_loop()  \n",
    "\n",
    "challAccountIds = loop.run_until_complete(getChallengersAccountIds(\"RANKED_FLEX_TT\"))\n",
    "\n",
    "matches = loop.run_until_complete(getMatchIdsFromMultipleAccounts(challAccountIds))\n",
    "\n",
    "matchesList = [a for b in matches for a in b]"
   ]
  },
  {
   "cell_type": "code",
   "execution_count": null,
   "metadata": {},
   "outputs": [],
   "source": [
    "import pymongo\n",
    "client = pymongo.MongoClient()\n",
    "\n",
    "#Select the right mongo DB and table\n",
    "db = client.game\n",
    "mongoTable = db[\"gameTT2_NA\"]\n",
    "\n",
    "\n",
    "mongoTable.create_index([(\"gameId\" , pymongo.ASCENDING),(\"platformId\", pymongo.ASCENDING)],name=\"gameId_index\", unique=True, sparse=True)"
   ]
  },
  {
   "cell_type": "code",
   "execution_count": 9,
   "metadata": {},
   "outputs": [],
   "source": [
    "async def getMatch(matchId):\n",
    "    try:\n",
    "        data, timeline = await asyncio.gather(\n",
    "            panth.getMatch(matchId),\n",
    "            panth.getTimeline(matchId)\n",
    "        )\n",
    "\n",
    "        data['timeline'] = timeline\n",
    "\n",
    "        try:\n",
    "            mongoTable.insert_one(data);\n",
    "        except pymongo.errors.DuplicateKeyError:\n",
    "            pass\n",
    "    except Exception as e:\n",
    "        print(e)\n",
    "        print(matchId)"
   ]
  },
  {
   "cell_type": "code",
   "execution_count": null,
   "metadata": {},
   "outputs": [],
   "source": [
    "output = loop.run_until_complete(asyncio.gather(*[getMatch(matchId) for matchId in set(matchesList)]))"
   ]
  },
  {
   "cell_type": "code",
   "execution_count": null,
   "metadata": {},
   "outputs": [],
   "source": []
  }
 ],
 "metadata": {
  "kernelspec": {
   "display_name": "Python 3",
   "language": "python",
   "name": "python3"
  },
  "language_info": {
   "codemirror_mode": {
    "name": "ipython",
    "version": 3
   },
   "file_extension": ".py",
   "mimetype": "text/x-python",
   "name": "python",
   "nbconvert_exporter": "python",
   "pygments_lexer": "ipython3",
   "version": "3.5.4"
  }
 },
 "nbformat": 4,
 "nbformat_minor": 2
}
