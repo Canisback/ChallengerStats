{
 "cells": [
  {
   "cell_type": "code",
   "execution_count": 1,
   "metadata": {},
   "outputs": [],
   "source": [
    "#Get the mongo table where are stored the games\n",
    "\n",
    "import pymongo\n",
    "client = pymongo.MongoClient()\n",
    "db = client.game\n",
    "\n",
    "#Create Mongo table for new games\n",
    "mongoTable = db[\"TTGames_EUW\"]"
   ]
  },
  {
   "cell_type": "code",
   "execution_count": 2,
   "metadata": {},
   "outputs": [],
   "source": [
    "#Need to classify teams as following jungler meta or hypercarry meta\n",
    "#Intuition : hypercarry meta team needs a support, which usually has a specific support item\n",
    "#            A player having one of those specific items are support\n",
    "#            A team having one (or more) support player follows hypercarry meta, a team which doesn't follows the jungler meta\n",
    "\n",
    "#List of support items (as of LoL season 8, up to patch 8.18)\n",
    "supportItems = [3303, 3309, 3098, 3096, 3097, 3312, 3092, 3311, 3307, 3301, 3306, 3401, 3310, 3304, 3302, 4301, 4302, 3308, 3069, 3305]\n",
    "\n",
    "#Detect if a player has a support item, and tag it has support\n",
    "def isSupport(participant):\n",
    "    for i in range(0,7):\n",
    "        if participant['stats']['item'+str(i)] in supportItems:\n",
    "            return True\n",
    "    return False\n",
    "\n",
    "#Check if the specified team has a support\n",
    "def hasSupport(game, teamId):\n",
    "    for p in game['participants']:\n",
    "        if isSupport(p) and p[\"teamId\"]==teamId:\n",
    "            return True\n",
    "    return False"
   ]
  },
  {
   "cell_type": "code",
   "execution_count": 3,
   "metadata": {},
   "outputs": [],
   "source": [
    "#Get the ratio of counterjungling, the number of monsters killed in the enemy jungle compared to those in the allied jungle\n",
    "def getCounterjunglingRatio(game, teamId):\n",
    "    alliedJungle = 0\n",
    "    enemyJungle = 0\n",
    "    for p in game[\"participants\"]:\n",
    "        if p[\"teamId\"] == teamId:\n",
    "            alliedJungle += p[\"stats\"][\"neutralMinionsKilledTeamJungle\"]\n",
    "            enemyJungle += p[\"stats\"][\"neutralMinionsKilledEnemyJungle\"]\n",
    "    return enemyJungle / (enemyJungle+alliedJungle) if (enemyJungle+alliedJungle) > 0 else 1"
   ]
  },
  {
   "cell_type": "code",
   "execution_count": 4,
   "metadata": {},
   "outputs": [],
   "source": [
    "#Analysis for games since patch 8.15\n",
    "startTimestamp = 1533097800 * 1000"
   ]
  },
  {
   "cell_type": "code",
   "execution_count": 5,
   "metadata": {},
   "outputs": [],
   "source": [
    "counterjunglingRatio = []\n",
    "#Only taking games during less than 20 minutes\n",
    "for game in mongoTable.find( { \"gameCreation\": { \"$gt\": startTimestamp }, \"gameDuration\": {\"$lt\" : 1200} }):\n",
    "    #Only counting games with hypercarry VS jungle, getting the CJ ratio of the hypercarry team\n",
    "    if hasSupport(game, 100) and not hasSupport(game, 200):\n",
    "        counterjunglingRatio.append(getCounterjunglingRatio(game, 100))\n",
    "    if hasSupport(game, 200) and not hasSupport(game, 100):\n",
    "        counterjunglingRatio.append(getCounterjunglingRatio(game, 200))"
   ]
  },
  {
   "cell_type": "code",
   "execution_count": 6,
   "metadata": {},
   "outputs": [
    {
     "name": "stdout",
     "output_type": "stream",
     "text": [
      "Mean :   0.181565771846\n",
      "Median : 0.180327868852\n",
      "Min :    0.0\n",
      "Max :    0.708333333333\n",
      "0.25 :   0.0\n",
      "0.75 :   0.2970843183609141\n"
     ]
    }
   ],
   "source": [
    "import pandas as pd\n",
    "serie = pd.Series(counterjunglingRatio)\n",
    "print(\"Mean :   \" + str(serie.mean()))\n",
    "print(\"Median : \" + str(serie.median()))\n",
    "print(\"Min :    \" + str(serie.min()))\n",
    "print(\"Max :    \" + str(serie.max()))\n",
    "print(\"0.25 :   \" + str(serie.quantile(0.25)))\n",
    "print(\"0.75 :   \" + str(serie.quantile(0.75)))"
   ]
  },
  {
   "cell_type": "code",
   "execution_count": null,
   "metadata": {},
   "outputs": [],
   "source": []
  }
 ],
 "metadata": {
  "kernelspec": {
   "display_name": "Python 3",
   "language": "python",
   "name": "python3"
  },
  "language_info": {
   "codemirror_mode": {
    "name": "ipython",
    "version": 3
   },
   "file_extension": ".py",
   "mimetype": "text/x-python",
   "name": "python",
   "nbconvert_exporter": "python",
   "pygments_lexer": "ipython3",
   "version": "3.5.4"
  }
 },
 "nbformat": 4,
 "nbformat_minor": 2
}
